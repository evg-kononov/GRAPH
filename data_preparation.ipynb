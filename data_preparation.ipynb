{
 "cells": [
  {
   "cell_type": "code",
   "execution_count": 1,
   "outputs": [],
   "source": [
    "import pandas as pd\n",
    "import numpy as np"
   ],
   "metadata": {
    "collapsed": false
   }
  },
  {
   "cell_type": "code",
   "execution_count": 2,
   "outputs": [],
   "source": [
    "author_path = r\"H:\\data lake\\entities\\author.parquet\"\n",
    "organization_path = r\"H:\\data lake\\entities\\organization.parquet\"\n",
    "publication_path = r\"H:\\data lake\\entities\\publication.parquet\"\n",
    "publication_author_path = r\"H:\\data lake\\entities\\publication_author.parquet\""
   ],
   "metadata": {
    "collapsed": false
   }
  },
  {
   "cell_type": "code",
   "execution_count": 3,
   "outputs": [],
   "source": [
    "author_data = pd.read_parquet(author_path)\n",
    "organization_data = pd.read_parquet(organization_path)\n",
    "publication_data = pd.read_parquet(publication_path)\n",
    "publication_author_data = pd.read_parquet(publication_author_path)"
   ],
   "metadata": {
    "collapsed": false
   }
  },
  {
   "cell_type": "code",
   "execution_count": 4,
   "outputs": [],
   "source": [
    "author_data[\"organization_id\"] = author_data[\"organization_id\"].fillna(-1).astype(int) - 1"
   ],
   "metadata": {
    "collapsed": false
   }
  },
  {
   "cell_type": "code",
   "execution_count": 5,
   "outputs": [],
   "source": [
    "output = pd.merge(\n",
    "        author_data, organization_data,\n",
    "        how=\"left\",\n",
    "        left_on=\"organization_id\",\n",
    "        right_index=True,\n",
    "        suffixes=(\"\", \"_y\"),\n",
    ")\n",
    "output = output[[\"name\", \"h_index\", \"name_y\"]]\n",
    "output.rename({\"name_y\": \"organization_name\", \"scopus_id_y\": \"organization_scopus_id\"}, axis=\"columns\", inplace=True)\n",
    "\n",
    "publication_num = publication_author_data.groupby(by=\"author_id\", as_index=False).count()\n",
    "publication_num[\"author_id\"] = publication_num[\"author_id\"] - 1\n",
    "output = pd.merge(\n",
    "        output, publication_num,\n",
    "        how=\"left\",\n",
    "        left_index=True,\n",
    "        right_on=\"author_id\"\n",
    ")\n",
    "output.rename({\"publication_id\": \"publication_num\", \"author_id\": \"id\"}, axis=\"columns\", inplace=True)\n",
    "output[\"id\"] = output[\"id\"] + 1\n",
    "output.dropna(subset=\"publication_num\", inplace=True)\n",
    "output[\"publication_num\"] = output[\"publication_num\"].astype(int)"
   ],
   "metadata": {
    "collapsed": false
   }
  },
  {
   "cell_type": "code",
   "execution_count": 8,
   "outputs": [],
   "source": [
    "output[output[\"organization_name\"] == \"Perm National Research Polytechnic University\"].to_csv(\"nodes.csv\", index=False)"
   ],
   "metadata": {
    "collapsed": false
   }
  },
  {
   "cell_type": "code",
   "execution_count": 9,
   "outputs": [
    {
     "data": {
      "text/plain": "                             name  h_index   \n0.0                 Maev, Igor V.       14  \\\n1.0            Pushkar, Dmitry Yu       15   \n2.0       Gurevich, Konstantin G.        8   \n3.0             Adamian, Leila V.       15   \n4.0                 Krylov, V. V.        9   \n...                           ...      ...   \n446655.0    Gruzdeva, Lyudmila A.        0   \n446656.0         Biryukova, O. N.        1   \n446657.0           Nazarov, V. P.        0   \n446658.0       Prontisheva, S. P.        0   \n446659.0       Ovchinnikov, P. V.        0   \n\n                                          organization_name      id   \n0.0       A.I. Yevdokimov Moscow State University of Med...       1  \\\n1.0       A.I. Yevdokimov Moscow State University of Med...       2   \n2.0       A.I. Yevdokimov Moscow State University of Med...       3   \n3.0                              Russian Ministry of Health       4   \n4.0       A.I. Yevdokimov Moscow State University of Med...       5   \n...                                                     ...     ...   \n446655.0                             Yugra State University  446842   \n446656.0                             Yugra State University  446843   \n446657.0                             Yugra State University  446844   \n446658.0                             Yugra State University  446845   \n446659.0                             Yugra State University  446846   \n\n          publication_num  \n0.0                   279  \n1.0                   244  \n2.0                   124  \n3.0                   292  \n4.0                   212  \n...                   ...  \n446655.0                1  \n446656.0                1  \n446657.0                1  \n446658.0                1  \n446659.0                1  \n\n[446660 rows x 5 columns]",
      "text/html": "<div>\n<style scoped>\n    .dataframe tbody tr th:only-of-type {\n        vertical-align: middle;\n    }\n\n    .dataframe tbody tr th {\n        vertical-align: top;\n    }\n\n    .dataframe thead th {\n        text-align: right;\n    }\n</style>\n<table border=\"1\" class=\"dataframe\">\n  <thead>\n    <tr style=\"text-align: right;\">\n      <th></th>\n      <th>name</th>\n      <th>h_index</th>\n      <th>organization_name</th>\n      <th>id</th>\n      <th>publication_num</th>\n    </tr>\n  </thead>\n  <tbody>\n    <tr>\n      <th>0.0</th>\n      <td>Maev, Igor V.</td>\n      <td>14</td>\n      <td>A.I. Yevdokimov Moscow State University of Med...</td>\n      <td>1</td>\n      <td>279</td>\n    </tr>\n    <tr>\n      <th>1.0</th>\n      <td>Pushkar, Dmitry Yu</td>\n      <td>15</td>\n      <td>A.I. Yevdokimov Moscow State University of Med...</td>\n      <td>2</td>\n      <td>244</td>\n    </tr>\n    <tr>\n      <th>2.0</th>\n      <td>Gurevich, Konstantin G.</td>\n      <td>8</td>\n      <td>A.I. Yevdokimov Moscow State University of Med...</td>\n      <td>3</td>\n      <td>124</td>\n    </tr>\n    <tr>\n      <th>3.0</th>\n      <td>Adamian, Leila V.</td>\n      <td>15</td>\n      <td>Russian Ministry of Health</td>\n      <td>4</td>\n      <td>292</td>\n    </tr>\n    <tr>\n      <th>4.0</th>\n      <td>Krylov, V. V.</td>\n      <td>9</td>\n      <td>A.I. Yevdokimov Moscow State University of Med...</td>\n      <td>5</td>\n      <td>212</td>\n    </tr>\n    <tr>\n      <th>...</th>\n      <td>...</td>\n      <td>...</td>\n      <td>...</td>\n      <td>...</td>\n      <td>...</td>\n    </tr>\n    <tr>\n      <th>446655.0</th>\n      <td>Gruzdeva, Lyudmila A.</td>\n      <td>0</td>\n      <td>Yugra State University</td>\n      <td>446842</td>\n      <td>1</td>\n    </tr>\n    <tr>\n      <th>446656.0</th>\n      <td>Biryukova, O. N.</td>\n      <td>1</td>\n      <td>Yugra State University</td>\n      <td>446843</td>\n      <td>1</td>\n    </tr>\n    <tr>\n      <th>446657.0</th>\n      <td>Nazarov, V. P.</td>\n      <td>0</td>\n      <td>Yugra State University</td>\n      <td>446844</td>\n      <td>1</td>\n    </tr>\n    <tr>\n      <th>446658.0</th>\n      <td>Prontisheva, S. P.</td>\n      <td>0</td>\n      <td>Yugra State University</td>\n      <td>446845</td>\n      <td>1</td>\n    </tr>\n    <tr>\n      <th>446659.0</th>\n      <td>Ovchinnikov, P. V.</td>\n      <td>0</td>\n      <td>Yugra State University</td>\n      <td>446846</td>\n      <td>1</td>\n    </tr>\n  </tbody>\n</table>\n<p>446660 rows × 5 columns</p>\n</div>"
     },
     "execution_count": 9,
     "metadata": {},
     "output_type": "execute_result"
    }
   ],
   "source": [
    "output"
   ],
   "metadata": {
    "collapsed": false
   }
  },
  {
   "cell_type": "code",
   "execution_count": 36,
   "outputs": [],
   "source": [
    "temp = pd.read_csv(\"nodes.csv\")\n",
    "temp_list = temp[\"id\"].values\n",
    "temp2 = pd.read_csv(\"edges.csv\")\n",
    "temp2_target = temp2[\"target\"].values\n",
    "temp2_source = temp2[\"source\"].values\n",
    "temp2_list = np.unique(np.array([temp2_source, temp2_target]))"
   ],
   "metadata": {
    "collapsed": false
   }
  },
  {
   "cell_type": "code",
   "execution_count": 38,
   "outputs": [],
   "source": [
    "output[output[\"id\"].isin(temp2_list)].to_csv(\"nodes.csv\", index=False)"
   ],
   "metadata": {
    "collapsed": false
   }
  },
  {
   "cell_type": "code",
   "execution_count": 15,
   "outputs": [
    {
     "data": {
      "text/plain": "array([ 33052,  49673,  50052, ..., 210112, 210113, 210114], dtype=int64)"
     },
     "execution_count": 15,
     "metadata": {},
     "output_type": "execute_result"
    }
   ],
   "source": [],
   "metadata": {
    "collapsed": false
   }
  },
  {
   "cell_type": "code",
   "execution_count": null,
   "outputs": [],
   "source": [],
   "metadata": {
    "collapsed": false
   }
  }
 ],
 "metadata": {
  "kernelspec": {
   "display_name": "Python 3",
   "language": "python",
   "name": "python3"
  },
  "language_info": {
   "codemirror_mode": {
    "name": "ipython",
    "version": 2
   },
   "file_extension": ".py",
   "mimetype": "text/x-python",
   "name": "python",
   "nbconvert_exporter": "python",
   "pygments_lexer": "ipython2",
   "version": "2.7.6"
  }
 },
 "nbformat": 4,
 "nbformat_minor": 0
}
